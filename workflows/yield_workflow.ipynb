{
  "nbformat": 4,
  "nbformat_minor": 0,
  "metadata": {
    "colab": {
      "provenance": []
    },
    "kernelspec": {
      "name": "python3",
      "display_name": "Python 3"
    },
    "language_info": {
      "name": "python"
    }
  },
  "cells": [
    {
      "cell_type": "markdown",
      "source": [
        "**Before running this example, install the required packages:**"
      ],
      "metadata": {
        "id": "8ZByzBu76egj"
      }
    },
    {
      "cell_type": "code",
      "source": [
        "!rm -rf ./*"
      ],
      "metadata": {
        "id": "ITdB-AmH6iAK"
      },
      "execution_count": 37,
      "outputs": []
    },
    {
      "cell_type": "code",
      "execution_count": 38,
      "metadata": {
        "colab": {
          "base_uri": "https://localhost:8080/"
        },
        "id": "0cHGCpNpr812",
        "outputId": "605bd229-7f33-4481-cb99-a5eb3630a617"
      },
      "outputs": [
        {
          "output_type": "stream",
          "name": "stdout",
          "text": [
            "Looking in indexes: https://test.pypi.org/simple/\n",
            "Requirement already satisfied: nuclab==0.0.5 in /usr/local/lib/python3.12/dist-packages (0.0.5)\n"
          ]
        }
      ],
      "source": [
        "# Install nuclab from TestPyPI, curie, and xlsxwriter\n",
        "!pip install -i https://test.pypi.org/simple/ nuclab==0.0.5\n",
        "!pip install -q xlsxwriter"
      ]
    },
    {
      "cell_type": "markdown",
      "source": [
        "## **Notebook Overview**\n",
        "\n",
        "In this notebook, we demonstrate how to use **nuclab’s** `Yield` class to calculate theoretical end-of-bombardment (EoB) activity values. The workflow accounts for multiple possible reaction pathways, providing a flexible framework for modeling isotope production. The approach involves decomposing the target into thin slices, each thin enough to degrade the ion beam by an energy specificed by the user. Activity is calculated slice-by-slice, using each slice’s atomic areal density, the entrance energy of ions into that slice, and the relevant cross section at that energy. The total yield is then obtained by summing the contributions across all slices."
      ],
      "metadata": {
        "id": "HUA8AQpY6mnS"
      }
    },
    {
      "cell_type": "markdown",
      "source": [
        "## Import Dependencies\n",
        "\n",
        "- We use the ``Yield ``class from **nuclab's** ``production`` module."
      ],
      "metadata": {
        "id": "MLA2s5nT9O_S"
      }
    },
    {
      "cell_type": "code",
      "source": [
        "import nuclab\n",
        "from nuclab.production import Yield\n",
        "\n",
        "# Standard data handling tools\n",
        "import pandas as pd\n",
        "import numpy as np\n",
        "\n",
        "# To download and extract example data from GitHub\n",
        "import os, urllib.request, zipfile"
      ],
      "metadata": {
        "id": "GGhxV_9TvvCt"
      },
      "execution_count": 39,
      "outputs": []
    },
    {
      "cell_type": "markdown",
      "source": [
        "## Extract Example Data from Project Repository\n",
        "\n",
        "This code block retrieves the required cross-section and SRIM stopping-power datasets from the project repository. The files are unpacked into the `example_data` directory, which serves as a ready-to-use data source for running the workflow described above.\n"
      ],
      "metadata": {
        "id": "-zyIl2au9kL5"
      }
    },
    {
      "cell_type": "code",
      "source": [
        "# Make local dir\n",
        "os.makedirs(\"data\", exist_ok=True)\n",
        "\n",
        "# Direct URL to example_data.zip in your repo\n",
        "zip_url = \"https://github.com/vivektara24/Separation-of-terbium-from-proton-irradiated-gadolinium-oxide-targets/raw/main/example_data.zip\"\n",
        "zip_path = \"example_data.zip\"\n",
        "\n",
        "# Download ZIP\n",
        "urllib.request.urlretrieve(zip_url, zip_path)\n",
        "\n",
        "# Extract contents\n",
        "with zipfile.ZipFile(zip_path, 'r') as zip_ref:\n",
        "    zip_ref.extractall(\".\")\n",
        "\n",
        "# Path to extracted folder\n",
        "data_dir = \"example_data\"\n",
        "print(\"Files in example_data:\", os.listdir(data_dir))"
      ],
      "metadata": {
        "colab": {
          "base_uri": "https://localhost:8080/"
        },
        "id": "8h3W6fA03WLN",
        "outputId": "dcb7f1fc-89bc-4559-d718-9dfa93fa401c"
      },
      "execution_count": 40,
      "outputs": [
        {
          "output_type": "stream",
          "name": "stdout",
          "text": [
            "Files in example_data: ['yield', 'cal-to-ser']\n"
          ]
        }
      ]
    },
    {
      "cell_type": "markdown",
      "source": [
        "# Theoretical Yield Calculation Workflow"
      ],
      "metadata": {
        "id": "mpiGz27B9jar"
      }
    },
    {
      "cell_type": "code",
      "source": [
        "# Define directory where outputs of the nuclab package will be saved\n",
        "# Will be created automatically in workflow\n",
        "output_dir = 'outputs'"
      ],
      "metadata": {
        "id": "xwxLCzdC9_66"
      },
      "execution_count": 41,
      "outputs": []
    },
    {
      "cell_type": "code",
      "source": [
        "# Define the isotope_half_lives dictionary. Maps isotopes to half-lives in (s)\n",
        "ISOTOPE_HALF_LIVES = {\n",
        "    \"153Tb\": 2.34 * 24 * 60 * 60,\n",
        "    \"154Tb\": 21.5 * 60 * 60,\n",
        "    \"154m1Tb\": 9.994 * 60 * 60,\n",
        "    \"154m2Tb\": 22.7 * 60 * 60,\n",
        "    \"155Tb\": 5.32 * 24 * 60 * 60,\n",
        "    \"156Tb\": 5.35 * 24 * 60 * 60,\n",
        "    \"156m2Tb\": 5.3 * 60 * 60\n",
        "}"
      ],
      "metadata": {
        "id": "YQCsA5Z0wKvF"
      },
      "execution_count": 42,
      "outputs": []
    },
    {
      "cell_type": "code",
      "source": [
        "# Calculation Parameters\n",
        "DE = 0.001                # Energy slice width for target decomposition (MeV)\n",
        "\n",
        "# Irradiation parameters\n",
        "E0 = 12.6                 # Incident ion energy (MeV)\n",
        "PROJECTILE_INTENSITY = 2.37e13  # Ion beam intensity (particles/s)\n",
        "T_IRRAD = 1800            # Irradiation time (s)\n",
        "\n",
        "# Target parameters\n",
        "TARGET_THICKNESS = 0.037  # Target thickness (cm)\n",
        "DENSITY = 3.385           # Target material density (g/cm³)\n",
        "MOLECULAR_WEIGHT = 362.50 # Target material molecular weight (g/mol)"
      ],
      "metadata": {
        "id": "bZPGej2n3vOT"
      },
      "execution_count": 43,
      "outputs": []
    },
    {
      "cell_type": "code",
      "source": [
        "# Import SRIM simulation data for Gd2O3;\n",
        "# extract ion energies (MeV) and corresponding projected ranges (cm)\n",
        "df = pd.read_csv('/content/example_data/yield/Gd2O3-SRIM-DATA.csv')\n",
        "SRIM_ENERGIES, SRIM_RANGES = df.iloc[:, 0], df.iloc[:, 1]"
      ],
      "metadata": {
        "id": "gNJDiwlwwZ-r"
      },
      "execution_count": 44,
      "outputs": []
    },
    {
      "cell_type": "code",
      "source": [
        "SRIM_ENERGIES"
      ],
      "metadata": {
        "colab": {
          "base_uri": "https://localhost:8080/",
          "height": 458
        },
        "id": "hI2Zo3qO3oxr",
        "outputId": "48189f16-d696-480e-fd3c-b5028bb47a6f"
      },
      "execution_count": 45,
      "outputs": [
        {
          "output_type": "execute_result",
          "data": {
            "text/plain": [
              "0      0.010\n",
              "1      0.011\n",
              "2      0.012\n",
              "3      0.013\n",
              "4      0.014\n",
              "       ...  \n",
              "80    12.000\n",
              "81    13.000\n",
              "82    14.000\n",
              "83    15.000\n",
              "84    16.000\n",
              "Name: Energy (MeV), Length: 85, dtype: float64"
            ],
            "text/html": [
              "<div>\n",
              "<style scoped>\n",
              "    .dataframe tbody tr th:only-of-type {\n",
              "        vertical-align: middle;\n",
              "    }\n",
              "\n",
              "    .dataframe tbody tr th {\n",
              "        vertical-align: top;\n",
              "    }\n",
              "\n",
              "    .dataframe thead th {\n",
              "        text-align: right;\n",
              "    }\n",
              "</style>\n",
              "<table border=\"1\" class=\"dataframe\">\n",
              "  <thead>\n",
              "    <tr style=\"text-align: right;\">\n",
              "      <th></th>\n",
              "      <th>Energy (MeV)</th>\n",
              "    </tr>\n",
              "  </thead>\n",
              "  <tbody>\n",
              "    <tr>\n",
              "      <th>0</th>\n",
              "      <td>0.010</td>\n",
              "    </tr>\n",
              "    <tr>\n",
              "      <th>1</th>\n",
              "      <td>0.011</td>\n",
              "    </tr>\n",
              "    <tr>\n",
              "      <th>2</th>\n",
              "      <td>0.012</td>\n",
              "    </tr>\n",
              "    <tr>\n",
              "      <th>3</th>\n",
              "      <td>0.013</td>\n",
              "    </tr>\n",
              "    <tr>\n",
              "      <th>4</th>\n",
              "      <td>0.014</td>\n",
              "    </tr>\n",
              "    <tr>\n",
              "      <th>...</th>\n",
              "      <td>...</td>\n",
              "    </tr>\n",
              "    <tr>\n",
              "      <th>80</th>\n",
              "      <td>12.000</td>\n",
              "    </tr>\n",
              "    <tr>\n",
              "      <th>81</th>\n",
              "      <td>13.000</td>\n",
              "    </tr>\n",
              "    <tr>\n",
              "      <th>82</th>\n",
              "      <td>14.000</td>\n",
              "    </tr>\n",
              "    <tr>\n",
              "      <th>83</th>\n",
              "      <td>15.000</td>\n",
              "    </tr>\n",
              "    <tr>\n",
              "      <th>84</th>\n",
              "      <td>16.000</td>\n",
              "    </tr>\n",
              "  </tbody>\n",
              "</table>\n",
              "<p>85 rows × 1 columns</p>\n",
              "</div><br><label><b>dtype:</b> float64</label>"
            ]
          },
          "metadata": {},
          "execution_count": 45
        }
      ]
    },
    {
      "cell_type": "code",
      "source": [
        "SRIM_RANGES"
      ],
      "metadata": {
        "colab": {
          "base_uri": "https://localhost:8080/",
          "height": 458
        },
        "id": "Ukr5UsQ23qki",
        "outputId": "b205d34d-8fe8-44ea-ab58-3947d15dcd82"
      },
      "execution_count": 46,
      "outputs": [
        {
          "output_type": "execute_result",
          "data": {
            "text/plain": [
              "0     0.000017\n",
              "1     0.000019\n",
              "2     0.000020\n",
              "3     0.000022\n",
              "4     0.000023\n",
              "        ...   \n",
              "80    0.104000\n",
              "81    0.119000\n",
              "82    0.135000\n",
              "83    0.151000\n",
              "84    0.169000\n",
              "Name: Projected Range (cm), Length: 85, dtype: float64"
            ],
            "text/html": [
              "<div>\n",
              "<style scoped>\n",
              "    .dataframe tbody tr th:only-of-type {\n",
              "        vertical-align: middle;\n",
              "    }\n",
              "\n",
              "    .dataframe tbody tr th {\n",
              "        vertical-align: top;\n",
              "    }\n",
              "\n",
              "    .dataframe thead th {\n",
              "        text-align: right;\n",
              "    }\n",
              "</style>\n",
              "<table border=\"1\" class=\"dataframe\">\n",
              "  <thead>\n",
              "    <tr style=\"text-align: right;\">\n",
              "      <th></th>\n",
              "      <th>Projected Range (cm)</th>\n",
              "    </tr>\n",
              "  </thead>\n",
              "  <tbody>\n",
              "    <tr>\n",
              "      <th>0</th>\n",
              "      <td>0.000017</td>\n",
              "    </tr>\n",
              "    <tr>\n",
              "      <th>1</th>\n",
              "      <td>0.000019</td>\n",
              "    </tr>\n",
              "    <tr>\n",
              "      <th>2</th>\n",
              "      <td>0.000020</td>\n",
              "    </tr>\n",
              "    <tr>\n",
              "      <th>3</th>\n",
              "      <td>0.000022</td>\n",
              "    </tr>\n",
              "    <tr>\n",
              "      <th>4</th>\n",
              "      <td>0.000023</td>\n",
              "    </tr>\n",
              "    <tr>\n",
              "      <th>...</th>\n",
              "      <td>...</td>\n",
              "    </tr>\n",
              "    <tr>\n",
              "      <th>80</th>\n",
              "      <td>0.104000</td>\n",
              "    </tr>\n",
              "    <tr>\n",
              "      <th>81</th>\n",
              "      <td>0.119000</td>\n",
              "    </tr>\n",
              "    <tr>\n",
              "      <th>82</th>\n",
              "      <td>0.135000</td>\n",
              "    </tr>\n",
              "    <tr>\n",
              "      <th>83</th>\n",
              "      <td>0.151000</td>\n",
              "    </tr>\n",
              "    <tr>\n",
              "      <th>84</th>\n",
              "      <td>0.169000</td>\n",
              "    </tr>\n",
              "  </tbody>\n",
              "</table>\n",
              "<p>85 rows × 1 columns</p>\n",
              "</div><br><label><b>dtype:</b> float64</label>"
            ]
          },
          "metadata": {},
          "execution_count": 46
        }
      ]
    },
    {
      "cell_type": "code",
      "source": [
        "# Instantate the yield object w/ the defined parameters\n",
        "ye = Yield(E0=E0, srim_energies=SRIM_ENERGIES, srim_ranges=SRIM_RANGES,\n",
        "           target_thickness=TARGET_THICKNESS, dE=DE, density=DENSITY,\n",
        "           molecular_weight=MOLECULAR_WEIGHT, projectile_intensity=PROJECTILE_INTENSITY, t_irrad=T_IRRAD)"
      ],
      "metadata": {
        "id": "EnaQIOya40dz"
      },
      "execution_count": 47,
      "outputs": []
    },
    {
      "cell_type": "markdown",
      "source": [
        "#### Naming Convention for Cross Section Data\n",
        "Filenames are parsed to infer the isotope name:\n",
        "\n",
        "- If the name contains underscores, the **last underscore-separated token** is used.  \n",
        "  *Example:* `NatGd_P_X_154m1Tb.csv` → `154m1Tb`  \n",
        "- If there are no underscores, the **last alphanumeric sequence** is used.  \n",
        "  *Example:* `NatGdPX155Tb.csv` → `NatGdPX155Tb`\n",
        "\n",
        "The inferred name is then checked against the keys in the `isotope_half_lives` dictionary — files whose names don’t match a known isotope are skipped with a warning."
      ],
      "metadata": {
        "id": "8KcX2h2oJIol"
      }
    },
    {
      "cell_type": "code",
      "source": [
        "# Populate the reactions dictionary attribute of the Yield object\n",
        "# Loads per-isotope cross-section data from CSVs in the given directory,\n",
        "# with filenames following the naming convention described above\n",
        "reactions = ye.load_reactions_from_csvs(\n",
        "                directory=\"/content/example_data/yield/xs\",\n",
        "                isotope_half_lives=ISOTOPE_HALF_LIVES,\n",
        "                filename_glob=\"NatGd_P_X_*.csv\",  # or \"*.csv\"\n",
        "                energy_col=0,\n",
        "                xs_col=1,\n",
        "                xs_units=\"mb\",  # change if your CSVs are in barns/µb/nb/etc.\n",
        "            )"
      ],
      "metadata": {
        "id": "jPk3Qv1I5Ogr"
      },
      "execution_count": 48,
      "outputs": []
    },
    {
      "cell_type": "code",
      "source": [
        "# Calculate expected activity yields\n",
        "results = ye.compute_activities_for_multiple_isotopes()\n",
        "\n",
        "# Inspect available result fields for isotope 154m1Tb\n",
        "# Per-slice activities, cross sections, and areal densities. Total expected yield\n",
        "results['154m1Tb'].keys()"
      ],
      "metadata": {
        "id": "5i5tOYFQ5y0L",
        "colab": {
          "base_uri": "https://localhost:8080/"
        },
        "outputId": "659cd2a2-c896-4767-d3c4-41e2a7e63883"
      },
      "execution_count": 49,
      "outputs": [
        {
          "output_type": "execute_result",
          "data": {
            "text/plain": [
              "dict_keys(['slice_thicknesses', 'areal_densities', 'cross_sections', 'activities', 'total_activity'])"
            ]
          },
          "metadata": {},
          "execution_count": 49
        }
      ]
    },
    {
      "cell_type": "code",
      "source": [
        "print(f\"The expected 154m1Tb yield is {results['154m1Tb']['total_activity']} Bq\")"
      ],
      "metadata": {
        "colab": {
          "base_uri": "https://localhost:8080/"
        },
        "id": "d28N5E3fGXIn",
        "outputId": "613f0afd-3421-419f-f9a3-28345b3d783d"
      },
      "execution_count": 50,
      "outputs": [
        {
          "output_type": "stream",
          "name": "stdout",
          "text": [
            "The expected 154m1Tb yield is 3941297.5532004507 Bq\n"
          ]
        }
      ]
    },
    {
      "cell_type": "code",
      "source": [
        "# Save results to Excel:\n",
        "# - Each isotope’s per-slice information is written to its own sheet\n",
        "# - A 'Summary' sheet provides an easy-to-read table of overall results\n",
        "path = ye.save_results_to_excel(\"outputs/theoretical-yield-results.xlsx\", include_summary=True)\n",
        "print(\"Results saved to:\", path)"
      ],
      "metadata": {
        "colab": {
          "base_uri": "https://localhost:8080/"
        },
        "id": "tH15ay1t58sK",
        "outputId": "e9f9e9e7-e864-4e94-d078-f8d7ffd37479"
      },
      "execution_count": 51,
      "outputs": [
        {
          "output_type": "stream",
          "name": "stdout",
          "text": [
            "Results saved to: /content/outputs/theoretical-yield-results.xlsx\n"
          ]
        }
      ]
    }
  ]
}